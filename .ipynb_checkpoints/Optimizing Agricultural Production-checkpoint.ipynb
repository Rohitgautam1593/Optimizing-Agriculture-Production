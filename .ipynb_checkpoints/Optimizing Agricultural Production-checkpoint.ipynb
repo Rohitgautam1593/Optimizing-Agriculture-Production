{
 "cells": [
  {
   "cell_type": "code",
   "execution_count": 1,
   "id": "b93f38b5",
   "metadata": {},
   "outputs": [],
   "source": [
    "# for manupulations\n",
    "import numpy as np\n",
    "import pandas as pd\n",
    "\n",
    "# for data viusualization\n",
    "import matplotlib.pyplot as plt\n",
    "import seaborn as sns\n",
    "\n",
    "# for interactivity\n",
    "from ipywidgets import interact\n",
    "\n"
   ]
  },
  {
   "cell_type": "code",
   "execution_count": 2,
   "id": "ef235d45",
   "metadata": {},
   "outputs": [],
   "source": [
    "# lets read dataset\n",
    "data = pd.read_csv('agriculture.csv')"
   ]
  },
  {
   "cell_type": "code",
   "execution_count": 3,
   "id": "cec3f53f",
   "metadata": {},
   "outputs": [
    {
     "name": "stdout",
     "output_type": "stream",
     "text": [
      "shape of dataset : (2200, 8)\n"
     ]
    }
   ],
   "source": [
    "# lets check the shape of the dataset\n",
    "print(\"shape of dataset :\",data.shape)"
   ]
  },
  {
   "cell_type": "code",
   "execution_count": 4,
   "id": "7cb762a7",
   "metadata": {},
   "outputs": [
    {
     "data": {
      "text/html": [
       "<div>\n",
       "<style scoped>\n",
       "    .dataframe tbody tr th:only-of-type {\n",
       "        vertical-align: middle;\n",
       "    }\n",
       "\n",
       "    .dataframe tbody tr th {\n",
       "        vertical-align: top;\n",
       "    }\n",
       "\n",
       "    .dataframe thead th {\n",
       "        text-align: right;\n",
       "    }\n",
       "</style>\n",
       "<table border=\"1\" class=\"dataframe\">\n",
       "  <thead>\n",
       "    <tr style=\"text-align: right;\">\n",
       "      <th></th>\n",
       "      <th>N</th>\n",
       "      <th>P</th>\n",
       "      <th>K</th>\n",
       "      <th>temperature</th>\n",
       "      <th>humidity</th>\n",
       "      <th>ph</th>\n",
       "      <th>rainfall</th>\n",
       "      <th>label</th>\n",
       "    </tr>\n",
       "  </thead>\n",
       "  <tbody>\n",
       "    <tr>\n",
       "      <th>0</th>\n",
       "      <td>90</td>\n",
       "      <td>42</td>\n",
       "      <td>43</td>\n",
       "      <td>20.879744</td>\n",
       "      <td>82.002744</td>\n",
       "      <td>6.502985</td>\n",
       "      <td>202.935536</td>\n",
       "      <td>rice</td>\n",
       "    </tr>\n",
       "    <tr>\n",
       "      <th>1</th>\n",
       "      <td>85</td>\n",
       "      <td>58</td>\n",
       "      <td>41</td>\n",
       "      <td>21.770462</td>\n",
       "      <td>80.319644</td>\n",
       "      <td>7.038096</td>\n",
       "      <td>226.655537</td>\n",
       "      <td>rice</td>\n",
       "    </tr>\n",
       "    <tr>\n",
       "      <th>2</th>\n",
       "      <td>60</td>\n",
       "      <td>55</td>\n",
       "      <td>44</td>\n",
       "      <td>23.004459</td>\n",
       "      <td>82.320763</td>\n",
       "      <td>7.840207</td>\n",
       "      <td>263.964248</td>\n",
       "      <td>rice</td>\n",
       "    </tr>\n",
       "    <tr>\n",
       "      <th>3</th>\n",
       "      <td>74</td>\n",
       "      <td>35</td>\n",
       "      <td>40</td>\n",
       "      <td>26.491096</td>\n",
       "      <td>80.158363</td>\n",
       "      <td>6.980401</td>\n",
       "      <td>242.864034</td>\n",
       "      <td>rice</td>\n",
       "    </tr>\n",
       "    <tr>\n",
       "      <th>4</th>\n",
       "      <td>78</td>\n",
       "      <td>42</td>\n",
       "      <td>42</td>\n",
       "      <td>20.130175</td>\n",
       "      <td>81.604873</td>\n",
       "      <td>7.628473</td>\n",
       "      <td>262.717340</td>\n",
       "      <td>rice</td>\n",
       "    </tr>\n",
       "  </tbody>\n",
       "</table>\n",
       "</div>"
      ],
      "text/plain": [
       "    N   P   K  temperature   humidity        ph    rainfall label\n",
       "0  90  42  43    20.879744  82.002744  6.502985  202.935536  rice\n",
       "1  85  58  41    21.770462  80.319644  7.038096  226.655537  rice\n",
       "2  60  55  44    23.004459  82.320763  7.840207  263.964248  rice\n",
       "3  74  35  40    26.491096  80.158363  6.980401  242.864034  rice\n",
       "4  78  42  42    20.130175  81.604873  7.628473  262.717340  rice"
      ]
     },
     "execution_count": 4,
     "metadata": {},
     "output_type": "execute_result"
    }
   ],
   "source": [
    "# lets check the head of the dataset\n",
    "data.head()"
   ]
  },
  {
   "cell_type": "code",
   "execution_count": 5,
   "id": "bd4f1fa1",
   "metadata": {},
   "outputs": [
    {
     "data": {
      "text/plain": [
       "N              0\n",
       "P              0\n",
       "K              0\n",
       "temperature    0\n",
       "humidity       0\n",
       "ph             0\n",
       "rainfall       0\n",
       "label          0\n",
       "dtype: int64"
      ]
     },
     "execution_count": 5,
     "metadata": {},
     "output_type": "execute_result"
    }
   ],
   "source": [
    "# lets check whether there is amy missing value in dataset\n",
    "data.isnull().sum()"
   ]
  },
  {
   "cell_type": "code",
   "execution_count": 6,
   "id": "ece75117",
   "metadata": {},
   "outputs": [],
   "source": [
    "# fill-NA function is used to replace the missing values with statistical values with mean, median, mode.\n",
    "# NA means not available\n",
    "# pandas have functions like fill-NA , drop-NA to treat missing values."
   ]
  },
  {
   "cell_type": "code",
   "execution_count": 7,
   "id": "7eba7f78",
   "metadata": {},
   "outputs": [
    {
     "data": {
      "text/plain": [
       "mungbean       100\n",
       "rice           100\n",
       "pomegranate    100\n",
       "jute           100\n",
       "chickpea       100\n",
       "lentil         100\n",
       "cotton         100\n",
       "mango          100\n",
       "muskmelon      100\n",
       "maize          100\n",
       "coconut        100\n",
       "apple          100\n",
       "watermelon     100\n",
       "pigeonpeas     100\n",
       "grapes         100\n",
       "blackgram      100\n",
       "banana         100\n",
       "coffee         100\n",
       "mothbeans      100\n",
       "kidneybeans    100\n",
       "papaya         100\n",
       "orange         100\n",
       "Name: label, dtype: int64"
      ]
     },
     "execution_count": 7,
     "metadata": {},
     "output_type": "execute_result"
    }
   ],
   "source": [
    "#lets check the crops prsent in this dataset\n",
    "data['label'].value_counts()\n"
   ]
  },
  {
   "cell_type": "code",
   "execution_count": 8,
   "id": "a5793ae5",
   "metadata": {},
   "outputs": [
    {
     "name": "stdout",
     "output_type": "stream",
     "text": [
      "Average Ratio of Nitrogen in the soil : 50.55\n",
      "Average Ratio of Phosphorous in the soil : 53.36\n",
      "Average Ratio of Potassium in the soil : 48.15\n",
      "Average Temprature in Celcius : 25.62\n",
      "Average Relative humidity in % : 71.48\n",
      "Average PH value of the soil : 6.47\n",
      "Average Rainfall in mm : 103.46\n"
     ]
    }
   ],
   "source": [
    "# lets check summary of all the crops \n",
    "print(\"Average Ratio of Nitrogen in the soil : {0:.2f}\".format(data['N'].mean()))\n",
    "print(\"Average Ratio of Phosphorous in the soil : {0:.2f}\".format(data['P'].mean()))\n",
    "print(\"Average Ratio of Potassium in the soil : {0:.2f}\".format(data['K'].mean()))\n",
    "print(\"Average Temprature in Celcius : {0:.2f}\".format(data['temperature'].mean()))\n",
    "print(\"Average Relative humidity in % : {0:.2f}\".format(data['humidity'].mean()))\n",
    "print(\"Average PH value of the soil : {0:.2f}\".format(data['ph'].mean()))\n",
    "print(\"Average Rainfall in mm : {0:.2f}\".format(data['rainfall'].mean()))"
   ]
  },
  {
   "cell_type": "code",
   "execution_count": 9,
   "id": "101134f2",
   "metadata": {},
   "outputs": [
    {
     "data": {
      "application/vnd.jupyter.widget-view+json": {
       "model_id": "f0aded24892b4845b099b8cc2e4255be",
       "version_major": 2,
       "version_minor": 0
      },
      "text/plain": [
       "interactive(children=(Dropdown(description='crops', options=('mungbean', 'rice', 'pomegranate', 'jute', 'chick…"
      ]
     },
     "metadata": {},
     "output_type": "display_data"
    }
   ],
   "source": [
    "# lets check the Summary statistics for each of the crops \n",
    "# this can only be done with the help of ipywidgets (import interact)\n",
    "\n",
    "@interact\n",
    "def summary(crops = list(data['label'].value_counts().index)):\n",
    "    x = data[data['label']== crops ]\n",
    "    print(\"--------------------------------------------------\")\n",
    "    print(\"Statics for Nitrogen\")\n",
    "    print(\"Minimum Nitrogen required :\", x['N'].min())\n",
    "    print(\"Average Nitrogen required :\", x['N'].mean())\n",
    "    print(\"Maximum Nitrogen required :\", x['N'].max())\n",
    "    print(\"--------------------------------------------------\")\n",
    "    print(\"Statics for Phosphorous\")\n",
    "    print(\"Minimum Phosphorous required :\", x['P'].min())\n",
    "    print(\"Average Phosphorous required :\", x['P'].mean())\n",
    "    print(\"Maximum Phosphorous required :\", x['P'].max())\n",
    "    print(\"--------------------------------------------------\")\n",
    "    print(\"Statics for Potassium\")\n",
    "    print(\"Minimum Potassium required :\", x['K'].min())\n",
    "    print(\"Average Potassium required :\", x['K'].mean())\n",
    "    print(\"Maximum Potassium required :\", x['K'].max())\n",
    "    print(\"--------------------------------------------------\")\n",
    "    print(\"Statics for Temperature\")\n",
    "    print(\"Minimum Temperature required : {0:.2f}\".format(x['temperature'].min()))\n",
    "    print(\"Average Temperature required : {0:.2f}\".format(x['temperature'].mean()))\n",
    "    print(\"Maximum Temperature required : {0:.2f}\".format(x['temperature'].max()))\n",
    "    print(\"--------------------------------------------------\")\n",
    "    print(\"Statics for Humidity\")\n",
    "    print(\"Minimum Humidity required : {0:.2f}\".format(x['humidity'].min()))\n",
    "    print(\"Average Humidity required : {0:.2f}\".format(x['humidity'].mean()))\n",
    "    print(\"Maximum Humidity required : {0:.2f}\".format(x['humidity'].max()))\n",
    "    print(\"--------------------------------------------------\")\n",
    "    print(\"Statics for PH\")\n",
    "    print(\"Minimum PH required : {0:.2f}\".format(x['ph'].min()))\n",
    "    print(\"Average PH required : {0:.2f}\".format(x['ph'].mean()))\n",
    "    print(\"Maximum PH required : {0:.2f}\".format(x['ph'].max()))\n",
    "    print(\"--------------------------------------------------\")\n",
    "    print(\"Statics for Rainfall\")\n",
    "    print(\"Minimum Rainfall required : {0:.2f}\".format(x['rainfall'].min()))\n",
    "    print(\"Average Rainfall required : {0:.2f}\".format(x['rainfall'].mean()))\n",
    "    print(\"Maximum Rainfall required : {0:.2f}\".format(x['rainfall'].max()))\n",
    "    \n",
    "    \n",
    "    \n",
    "    \n",
    "    "
   ]
  },
  {
   "cell_type": "code",
   "execution_count": 10,
   "id": "636fc3a0",
   "metadata": {},
   "outputs": [
    {
     "data": {
      "application/vnd.jupyter.widget-view+json": {
       "model_id": "8196ce00a38f4b19ba85e0a80bde835b",
       "version_major": 2,
       "version_minor": 0
      },
      "text/plain": [
       "interactive(children=(Dropdown(description='conditions', options=('N', 'P', 'K', 'temperature', 'ph', 'humidit…"
      ]
     },
     "metadata": {},
     "output_type": "display_data"
    }
   ],
   "source": [
    "#lets compqare the average requirmnet for each crop with average conditions \n",
    "\n",
    "@interact\n",
    "def compare(conditions = ['N','P','K','temperature','ph','humidity','rainfall']):\n",
    "    print(\"average value for\", conditions , \"is {0:.2f}\".format(data[conditions].mean()))\n",
    "    print(\"-----------------------------------------------\")\n",
    "    print(\"Rice : {0:.2f}\".format(data[(data['label'] == 'rice')][conditions].mean()))\n",
    "    print(\"Black Gram : {0:.2f}\".format(data[(data['label'] == 'blackgram')][conditions].mean()))\n",
    "    print(\"Banana : {0:.2f}\".format(data[(data['label'] == 'banana')][conditions].mean()))\n",
    "    print(\"Jute : {0:.2f}\".format(data[(data['label'] == 'jute')][conditions].mean()))\n",
    "    print(\"Coconut : {0:.2f}\".format(data[(data['label'] == 'coconut')][conditions].mean()))\n",
    "    print(\"Apple : {0:.2f}\".format(data[(data['label'] == 'apple')][conditions].mean()))\n",
    "    print(\"Papaya : {0:.2f}\".format(data[(data['label'] == 'papaya')][conditions].mean()))\n",
    "    print(\"Muskmelon : {0:.2f}\".format(data[(data['label'] == 'muskmelon')][conditions].mean()))\n",
    "    print(\"Grapes : {0:.2f}\".format(data[(data['label'] == 'grapes')][conditions].mean()))\n",
    "    print(\"Watermelon : {0:.2f}\".format(data[(data['label'] == 'watermelon')][conditions].mean()))\n",
    "    print(\"Kidney Beans : {0:.2f}\".format(data[(data['label'] == 'kidneybeans')][conditions].mean()))\n",
    "    print(\"Mung Beans : {0:.2f}\".format(data[(data['label'] == 'mungbean')][conditions].mean()))\n",
    "    print(\"Oranges : {0:.2f}\".format(data[(data['label'] == 'orange')][conditions].mean()))\n",
    "    print(\"Chick Peas : {0:.2f}\".format(data[(data['label'] == 'chickpea')][conditions].mean()))\n",
    "    print(\"Lentil : {0:.2f}\".format(data[(data['label'] == 'lentil')][conditions].mean()))\n",
    "    print(\"Cotton : {0:.2f}\".format(data[(data['label'] == 'cotton')][conditions].mean()))\n",
    "    print(\"Maize : {0:.2f}\".format(data[(data['label'] == 'maize')][conditions].mean()))\n",
    "    print(\"Moth Beans : {0:.2f}\".format(data[(data['label'] == 'mothbeans')][conditions].mean()))\n",
    "    print(\"Pigeon Peas : {0:.2f}\".format(data[(data['label'] == 'pigeonpeas')][conditions].mean()))\n",
    "    print(\"Mango : {0:.2f}\".format(data[(data['label'] == 'mango')][conditions].mean()))\n",
    "    print(\"Pomogrant : {0:.2f}\".format(data[(data['label'] == 'pomogrant')][conditions].mean()))\n",
    "    print(\"Coffee : {0:.2f}\".format(data[(data['label'] == 'coffee')][conditions].mean()))\n",
    "    \n",
    "    "
   ]
  },
  {
   "cell_type": "code",
   "execution_count": 11,
   "id": "ece9c0a9",
   "metadata": {
    "scrolled": true
   },
   "outputs": [
    {
     "data": {
      "application/vnd.jupyter.widget-view+json": {
       "model_id": "f1d7149bcda940ca98d958fc8f9dfb1e",
       "version_major": 2,
       "version_minor": 0
      },
      "text/plain": [
       "interactive(children=(Dropdown(description='conditions', options=('N', 'P', 'K', 'temperature', 'ph', 'humidit…"
      ]
     },
     "metadata": {},
     "output_type": "display_data"
    }
   ],
   "source": [
    "# lets make this function more intuitive  \n",
    "\n",
    "@interact\n",
    "def compare(conditions = ['N','P','K','temperature','ph','humidity','rainfall']):\n",
    "    print(\"Crops which requires more then average :\",conditions,'\\n')\n",
    "    print(data[data[conditions] > data[conditions].mean()]['label'].unique())\n",
    "    print(\"\\n----------------------------------------------------------------\\n\")\n",
    "    print(\"Crops which requires less then average :\",conditions,'\\n')\n",
    "    print(data[data[conditions] <= data[conditions].mean()]['label'].unique())"
   ]
  },
  {
   "cell_type": "code",
   "execution_count": 12,
   "id": "5261bcd4",
   "metadata": {},
   "outputs": [
    {
     "name": "stderr",
     "output_type": "stream",
     "text": [
      "C:\\Users\\rohit\\AppData\\Roaming\\Python\\Python36\\site-packages\\seaborn\\distributions.py:2619: FutureWarning: `distplot` is a deprecated function and will be removed in a future version. Please adapt your code to use either `displot` (a figure-level function with similar flexibility) or `histplot` (an axes-level function for histograms).\n",
      "  warnings.warn(msg, FutureWarning)\n",
      "C:\\Users\\rohit\\AppData\\Roaming\\Python\\Python36\\site-packages\\seaborn\\distributions.py:2619: FutureWarning: `distplot` is a deprecated function and will be removed in a future version. Please adapt your code to use either `displot` (a figure-level function with similar flexibility) or `histplot` (an axes-level function for histograms).\n",
      "  warnings.warn(msg, FutureWarning)\n",
      "C:\\Users\\rohit\\AppData\\Roaming\\Python\\Python36\\site-packages\\seaborn\\distributions.py:2619: FutureWarning: `distplot` is a deprecated function and will be removed in a future version. Please adapt your code to use either `displot` (a figure-level function with similar flexibility) or `histplot` (an axes-level function for histograms).\n",
      "  warnings.warn(msg, FutureWarning)\n",
      "C:\\Users\\rohit\\AppData\\Roaming\\Python\\Python36\\site-packages\\seaborn\\distributions.py:2619: FutureWarning: `distplot` is a deprecated function and will be removed in a future version. Please adapt your code to use either `displot` (a figure-level function with similar flexibility) or `histplot` (an axes-level function for histograms).\n",
      "  warnings.warn(msg, FutureWarning)\n",
      "C:\\Users\\rohit\\AppData\\Roaming\\Python\\Python36\\site-packages\\seaborn\\distributions.py:2619: FutureWarning: `distplot` is a deprecated function and will be removed in a future version. Please adapt your code to use either `displot` (a figure-level function with similar flexibility) or `histplot` (an axes-level function for histograms).\n",
      "  warnings.warn(msg, FutureWarning)\n",
      "C:\\Users\\rohit\\AppData\\Roaming\\Python\\Python36\\site-packages\\seaborn\\distributions.py:2619: FutureWarning: `distplot` is a deprecated function and will be removed in a future version. Please adapt your code to use either `displot` (a figure-level function with similar flexibility) or `histplot` (an axes-level function for histograms).\n",
      "  warnings.warn(msg, FutureWarning)\n",
      "C:\\Users\\rohit\\AppData\\Roaming\\Python\\Python36\\site-packages\\seaborn\\distributions.py:2619: FutureWarning: `distplot` is a deprecated function and will be removed in a future version. Please adapt your code to use either `displot` (a figure-level function with similar flexibility) or `histplot` (an axes-level function for histograms).\n",
      "  warnings.warn(msg, FutureWarning)\n"
     ]
    },
    {
     "data": {
      "image/png": "[encoded data removed]",
      "text/plain": [
       "<Figure size 1080x576 with 7 Axes>"
      ]
     },
     "metadata": {
      "needs_background": "light"
     },
     "output_type": "display_data"
    }
   ],
   "source": [
    "import matplotlib.pyplot as plt\n",
    "import seaborn as sns\n",
    "\n",
    "# Assuming 'data' is your DataFrame with the relevant columns\n",
    "\n",
    "plt.figure(figsize=(15, 8))  # Set the overall figure size\n",
    "\n",
    "# Plot 1: Nitrogen\n",
    "plt.subplot(2, 4, 1)\n",
    "sns.distplot(data['N'], color='darkblue')\n",
    "plt.xlabel(\"Ratio of Nitrogen\", fontsize=12)\n",
    "plt.grid()\n",
    "\n",
    "# Plot 2: Phosphorous\n",
    "plt.subplot(2, 4, 2)\n",
    "sns.distplot(data['P'], color='darkgreen')\n",
    "plt.xlabel(\"Ratio for Phosphorous\", fontsize=12)\n",
    "plt.grid()\n",
    "\n",
    "# Plot 3: Potassium\n",
    "plt.subplot(2, 4, 3)\n",
    "sns.distplot(data['K'], color='darkred')\n",
    "plt.xlabel(\"Ratio of Potassium\", fontsize=12)\n",
    "plt.grid()\n",
    "\n",
    "# Plot 4: Temperature\n",
    "plt.subplot(2, 4, 4)\n",
    "sns.distplot(data['temperature'], color='black')\n",
    "plt.xlabel(\"Temperature\", fontsize=12)\n",
    "plt.grid()\n",
    "\n",
    "# Plot 5: Rainfall\n",
    "plt.subplot(2, 4, 5)\n",
    "sns.distplot(data['rainfall'], color='grey')\n",
    "plt.xlabel(\"Rainfall\", fontsize=12)\n",
    "plt.grid()\n",
    "\n",
    "# Plot 6: Humidity\n",
    "plt.subplot(2, 4, 6)\n",
    "sns.distplot(data['humidity'], color='lightgreen')\n",
    "plt.xlabel(\"Humidity\", fontsize=12)\n",
    "plt.grid()\n",
    "\n",
    "# Plot 7: pH\n",
    "plt.subplot(2, 4, 7)\n",
    "sns.distplot(data['ph'], color='darkgreen')\n",
    "plt.xlabel(\"pH level\", fontsize=12)\n",
    "plt.grid()\n",
    "\n",
    "# Set the overall plot title\n",
    "plt.suptitle('Distribution of Agricultural Conditions', fontsize=20)\n",
    "\n",
    "# Adjust the layout to prevent overlapping titles\n",
    "plt.tight_layout()\n",
    "\n",
    "# Show the plots\n",
    "plt.show()\n"
   ]
  },
  {
   "cell_type": "code",
   "execution_count": 13,
   "id": "69fed29c",
   "metadata": {
    "scrolled": true
   },
   "outputs": [
    {
     "name": "stdout",
     "output_type": "stream",
     "text": [
      "Some Intrusting Patterns \n",
      "---------------------------------------------------------\n",
      "Crops which requires very high ratio of Nitrogen contents in soil: ['cotton']\n",
      "Crops which requires very high ratio of Phosporous contents in soil: ['grapes' 'apple']\n",
      "Crops which requires very high ratio of Pottasium contents in soil: []\n",
      "Crops which requires very High Rainfall: ['rice' 'papaya' 'coconut']\n",
      "Crops which requires very Low Temeprature: ['grapes']\n",
      "Crops which requires very High Temeprature: ['grapes' 'papaya']\n",
      "Crops which requires very Low Humidity: ['chickpea' 'kidneybeans']\n",
      "Crops which requires very Low PH: ['mothbeans']\n",
      "Crops which requires very High PH: ['mothbeans']\n"
     ]
    }
   ],
   "source": [
    "## lets find out some intrusting facts \n",
    "\n",
    "print(\"Some Intrusting Patterns \")\n",
    "print(\"---------------------------------------------------------\")\n",
    "print(\"Crops which requires very high ratio of Nitrogen contents in soil:\",data[data['N'] > 120]['label'].unique())\n",
    "print(\"Crops which requires very high ratio of Phosporous contents in soil:\",data[data['P'] > 100]['label'].unique())\n",
    "print(\"Crops which requires very high ratio of Pottasium contents in soil:\",data[data['N'] > 200]['label'].unique())\n",
    "print(\"Crops which requires very High Rainfall:\",data[data['rainfall'] > 200]['label'].unique())\n",
    "print(\"Crops which requires very Low Temeprature:\",data[data['temperature'] < 10]['label'].unique())\n",
    "print(\"Crops which requires very High Temeprature:\",data[data['temperature'] > 40]['label'].unique())\n",
    "print(\"Crops which requires very Low Humidity:\",data[data['humidity'] < 20]['label'].unique())\n",
    "print(\"Crops which requires very Low PH:\",data[data['ph'] < 4]['label'].unique())\n",
    "print(\"Crops which requires very High PH:\",data[data['ph'] > 9]['label'].unique())\n"
   ]
  },
  {
   "cell_type": "code",
   "execution_count": 14,
   "id": "9d5c72d0",
   "metadata": {},
   "outputs": [
    {
     "name": "stdout",
     "output_type": "stream",
     "text": [
      "Summer Crops\n",
      "['pigeonpeas' 'mothbeans' 'blackgram' 'mango' 'grapes' 'orange' 'papaya']\n",
      "------------------------------------------------------------\n",
      "Winter Crops\n",
      "['maize' 'pigeonpeas' 'lentil' 'pomegranate' 'grapes' 'orange']\n",
      "Rainy Crops\n",
      "------------------------------------------------------------\n",
      "['rice' 'papaya' 'coconut']\n"
     ]
    }
   ],
   "source": [
    "### lets see which crops can be grown in summer season , winter season , rainy season \n",
    "print(\"Summer Crops\")\n",
    "print(data[(data['temperature'] >30 ) & (data['humidity'] > 50)]['label'].unique())\n",
    "print(\"------------------------------------------------------------\")\n",
    "print(\"Winter Crops\")\n",
    "print(data[(data['temperature'] <20 ) & (data['humidity'] >30 )]['label'].unique())\n",
    "print(\"Rainy Crops\")\n",
    "print(\"------------------------------------------------------------\")\n",
    "print(data[(data['rainfall'] >200 ) & (data['humidity'] > 30)]['label'].unique())\n"
   ]
  },
  {
   "cell_type": "code",
   "execution_count": 15,
   "id": "2b163dfc",
   "metadata": {},
   "outputs": [
    {
     "name": "stdout",
     "output_type": "stream",
     "text": [
      "(2200, 7)\n"
     ]
    }
   ],
   "source": [
    "from sklearn.cluster import KMeans \n",
    "\n",
    "# removing the labels column \n",
    "x = data.drop(['label'], axis=1)\n",
    "\n",
    "# selecting all the values of data \n",
    "x = x.values\n",
    "\n",
    "# checking the shape\n",
    "print(x.shape)"
   ]
  },
  {
   "cell_type": "code",
   "execution_count": 16,
   "id": "8f0951be",
   "metadata": {},
   "outputs": [
    {
     "data": {
      "image/png": "[encoded data removed]",
      "text/plain": [
       "<Figure size 720x288 with 1 Axes>"
      ]
     },
     "metadata": {
      "needs_background": "light"
     },
     "output_type": "display_data"
    }
   ],
   "source": [
    "# lets determine the optimum no of clusters within the dataset \n",
    "plt.rcParams['figure.figsize'] = (10,4)\n",
    "\n",
    "wcss = []\n",
    "for i in range (1,11):\n",
    "    km = KMeans(n_clusters = i, init = 'k-means++', max_iter = 300, n_init = 10, random_state = 0)\n",
    "    km.fit(x)\n",
    "    wcss.append(km.inertia_)\n",
    "    \n",
    "# lets plot the results \n",
    "plt.plot(range(1,11),wcss)\n",
    "plt.title('the elbow methord', fontsize = 20)\n",
    "plt.xlabel('no. of clusters')\n",
    "plt.ylabel('wcss')\n",
    "plt.show()\n"
   ]
  },
  {
   "cell_type": "code",
   "execution_count": 17,
   "id": "52ca8840",
   "metadata": {},
   "outputs": [
    {
     "name": "stdout",
     "output_type": "stream",
     "text": [
      "Lets Check the Result After the K Means Clustering Anayalysis \n",
      "\n",
      "Crops in First Cluster: ['maize' 'chickpea' 'kidneybeans' 'pigeonpeas' 'mothbeans' 'mungbean'\n",
      " 'blackgram' 'lentil' 'pomegranate' 'mango' 'orange' 'papaya' 'coconut']\n",
      "------------------------------------------------------------------\n",
      "Crops in Second Cluster: ['maize' 'banana' 'watermelon' 'muskmelon' 'papaya' 'cotton' 'coffee']\n",
      "------------------------------------------------------------------\n",
      "Crops in Third Cluster: ['grapes' 'apple']\n",
      "------------------------------------------------------------------\n",
      "Crops in Forth Cluster: ['rice' 'pigeonpeas' 'papaya' 'coconut' 'jute' 'coffee']\n",
      "------------------------------------------------------------------\n"
     ]
    }
   ],
   "source": [
    "# lets impliment the k means algorithm to perform clustering analysis\n",
    "km = KMeans(n_clusters = 4, init = 'k-means++', max_iter = 300, n_init = 10, random_state = 0)\n",
    "y_means = km.fit_predict(x)\n",
    "\n",
    "# lets find out the results \n",
    "a = data['label']\n",
    "y_means = pd.DataFrame(y_means)\n",
    "z = pd.concat([y_means, a], axis =1)\n",
    "z = z.rename(columns = {0: 'cluster'})\n",
    "\n",
    "# lets check the cluster of each crop \n",
    "\n",
    "print(\"Lets Check the Result After the K Means Clustering Anayalysis \\n\")\n",
    "print(\"Crops in First Cluster:\",z[z['cluster'] == 0]['label'].unique())\n",
    "print(\"------------------------------------------------------------------\")\n",
    "print(\"Crops in Second Cluster:\",z[z['cluster'] == 1]['label'].unique())\n",
    "print(\"------------------------------------------------------------------\")\n",
    "print(\"Crops in Third Cluster:\",z[z['cluster'] == 2]['label'].unique())\n",
    "print(\"------------------------------------------------------------------\")\n",
    "print(\"Crops in Forth Cluster:\",z[z['cluster'] == 3]['label'].unique())\n",
    "print(\"------------------------------------------------------------------\")"
   ]
  },
  {
   "cell_type": "code",
   "execution_count": 18,
   "id": "e847f10e",
   "metadata": {},
   "outputs": [
    {
     "name": "stdout",
     "output_type": "stream",
     "text": [
      "Shape of x: (2200, 7)\n",
      "Shape of y: (2200,)\n"
     ]
    }
   ],
   "source": [
    "# lets split dataset for predictive modeling \n",
    "y = data['label']\n",
    "x = data.drop(['label'], axis = 1)\n",
    "\n",
    "print(\"Shape of x:\", x.shape)\n",
    "print(\"Shape of y:\", y.shape)\n",
    "\n",
    "\n"
   ]
  },
  {
   "cell_type": "code",
   "execution_count": 19,
   "id": "fb35f692",
   "metadata": {},
   "outputs": [
    {
     "name": "stdout",
     "output_type": "stream",
     "text": [
      "The shape of x train (1760, 7)\n",
      "The shape of x test (440, 7)\n",
      "The shape of y train (1760, 7)\n",
      "The shape of y test (1760, 7)\n"
     ]
    }
   ],
   "source": [
    "#lets create atraining and testing sets for the validation of results\n",
    "from sklearn.model_selection import train_test_split\n",
    "\n",
    "x_train, x_test , y_train , y_test = train_test_split(x ,y, test_size= 0.2,random_state =0)\n",
    "print(\"The shape of x train\",x_train.shape)\n",
    "print(\"The shape of x test\",x_test.shape)\n",
    "print(\"The shape of y train\",x_train.shape)\n",
    "print(\"The shape of y test\",x_train.shape)"
   ]
  },
  {
   "cell_type": "code",
   "execution_count": null,
   "id": "2433a974",
   "metadata": {},
   "outputs": [],
   "source": []
  },
  {
   "cell_type": "code",
   "execution_count": null,
   "id": "f8fa8706",
   "metadata": {},
   "outputs": [],
   "source": []
  },
  {
   "cell_type": "code",
   "execution_count": 20,
   "id": "264b27f7",
   "metadata": {},
   "outputs": [],
   "source": [
    "from sklearn.preprocessing import StandardScaler\n",
    "from sklearn.linear_model import LogisticRegression\n",
    "\n",
    "# Initialize the StandardScaler\n",
    "scaler = StandardScaler()\n",
    "\n",
    "# Scale the training and testing data\n",
    "x_train_scaled = scaler.fit_transform(x_train)\n",
    "x_test_scaled = scaler.transform(x_test)\n",
    "\n",
    "# Initialize the logistic regression model with desired parameters\n",
    "model = LogisticRegression(max_iter=1000)  # You can adjust max_iter as needed\n",
    "\n",
    "# Train the logistic regression model on the scaled training data\n",
    "model.fit(x_train_scaled, y_train)\n",
    "\n",
    "# Make predictions on the scaled testing data\n",
    "y_pred = model.predict(x_test_scaled)\n"
   ]
  },
  {
   "cell_type": "code",
   "execution_count": 21,
   "id": "af947218",
   "metadata": {},
   "outputs": [
    {
     "data": {
      "image/png": "[encoded data removed]",
      "text/plain": [
       "<Figure size 720x720 with 2 Axes>"
      ]
     },
     "metadata": {
      "needs_background": "light"
     },
     "output_type": "display_data"
    }
   ],
   "source": [
    "# Import necessary libraries\n",
    "from sklearn.metrics import confusion_matrix\n",
    "import matplotlib.pyplot as plt\n",
    "import seaborn as sns\n",
    "\n",
    "# Calculate the confusion matrix\n",
    "cm = confusion_matrix(y_test, y_pred)  # Assuming y_test contains the true labels\n",
    "\n",
    "# Set the figure size and plot the confusion matrix using seaborn\n",
    "plt.figure(figsize=(10, 10))\n",
    "sns.heatmap(cm, annot=True, cmap='Wistia', fmt='g')  # 'fmt' is used to format the cell values\n",
    "plt.title('Confusion Matrix for Logistic Regression', fontsize=15)\n",
    "plt.xlabel('Predicted')\n",
    "plt.ylabel('Actual')\n",
    "plt.show()\n"
   ]
  },
  {
   "cell_type": "code",
   "execution_count": 22,
   "id": "6813f632",
   "metadata": {},
   "outputs": [
    {
     "name": "stdout",
     "output_type": "stream",
     "text": [
      "              precision    recall  f1-score   support\n",
      "\n",
      "       apple       1.00      1.00      1.00        18\n",
      "      banana       1.00      1.00      1.00        18\n",
      "   blackgram       0.87      0.91      0.89        22\n",
      "    chickpea       1.00      1.00      1.00        23\n",
      "     coconut       1.00      1.00      1.00        15\n",
      "      coffee       1.00      1.00      1.00        17\n",
      "      cotton       0.94      1.00      0.97        16\n",
      "      grapes       1.00      1.00      1.00        18\n",
      "        jute       0.87      0.95      0.91        21\n",
      " kidneybeans       0.95      1.00      0.98        20\n",
      "      lentil       0.82      0.82      0.82        17\n",
      "       maize       1.00      0.94      0.97        18\n",
      "       mango       1.00      1.00      1.00        21\n",
      "   mothbeans       0.95      0.84      0.89        25\n",
      "    mungbean       1.00      1.00      1.00        17\n",
      "   muskmelon       0.96      1.00      0.98        23\n",
      "      orange       1.00      1.00      1.00        23\n",
      "      papaya       0.95      0.95      0.95        21\n",
      "  pigeonpeas       0.91      0.95      0.93        22\n",
      " pomegranate       1.00      1.00      1.00        23\n",
      "        rice       1.00      0.88      0.94        25\n",
      "  watermelon       1.00      1.00      1.00        17\n",
      "\n",
      "    accuracy                           0.96       440\n",
      "   macro avg       0.97      0.97      0.97       440\n",
      "weighted avg       0.96      0.96      0.96       440\n",
      "\n"
     ]
    }
   ],
   "source": [
    "# Import the classification_report function\n",
    "from sklearn.metrics import classification_report\n",
    "\n",
    "# Calculate the classification report\n",
    "cr = classification_report(y_test, y_pred)  # Assuming y_test contains the true labels\n",
    "\n",
    "# Print the classification report\n",
    "print(cr)\n"
   ]
  },
  {
   "cell_type": "code",
   "execution_count": 23,
   "id": "06ad70d0",
   "metadata": {},
   "outputs": [
    {
     "data": {
      "text/html": [
       "<div>\n",
       "<style scoped>\n",
       "    .dataframe tbody tr th:only-of-type {\n",
       "        vertical-align: middle;\n",
       "    }\n",
       "\n",
       "    .dataframe tbody tr th {\n",
       "        vertical-align: top;\n",
       "    }\n",
       "\n",
       "    .dataframe thead th {\n",
       "        text-align: right;\n",
       "    }\n",
       "</style>\n",
       "<table border=\"1\" class=\"dataframe\">\n",
       "  <thead>\n",
       "    <tr style=\"text-align: right;\">\n",
       "      <th></th>\n",
       "      <th>N</th>\n",
       "      <th>P</th>\n",
       "      <th>K</th>\n",
       "      <th>temperature</th>\n",
       "      <th>humidity</th>\n",
       "      <th>ph</th>\n",
       "      <th>rainfall</th>\n",
       "      <th>label</th>\n",
       "    </tr>\n",
       "  </thead>\n",
       "  <tbody>\n",
       "    <tr>\n",
       "      <th>0</th>\n",
       "      <td>90</td>\n",
       "      <td>42</td>\n",
       "      <td>43</td>\n",
       "      <td>20.879744</td>\n",
       "      <td>82.002744</td>\n",
       "      <td>6.502985</td>\n",
       "      <td>202.935536</td>\n",
       "      <td>rice</td>\n",
       "    </tr>\n",
       "    <tr>\n",
       "      <th>1</th>\n",
       "      <td>85</td>\n",
       "      <td>58</td>\n",
       "      <td>41</td>\n",
       "      <td>21.770462</td>\n",
       "      <td>80.319644</td>\n",
       "      <td>7.038096</td>\n",
       "      <td>226.655537</td>\n",
       "      <td>rice</td>\n",
       "    </tr>\n",
       "    <tr>\n",
       "      <th>2</th>\n",
       "      <td>60</td>\n",
       "      <td>55</td>\n",
       "      <td>44</td>\n",
       "      <td>23.004459</td>\n",
       "      <td>82.320763</td>\n",
       "      <td>7.840207</td>\n",
       "      <td>263.964248</td>\n",
       "      <td>rice</td>\n",
       "    </tr>\n",
       "    <tr>\n",
       "      <th>3</th>\n",
       "      <td>74</td>\n",
       "      <td>35</td>\n",
       "      <td>40</td>\n",
       "      <td>26.491096</td>\n",
       "      <td>80.158363</td>\n",
       "      <td>6.980401</td>\n",
       "      <td>242.864034</td>\n",
       "      <td>rice</td>\n",
       "    </tr>\n",
       "    <tr>\n",
       "      <th>4</th>\n",
       "      <td>78</td>\n",
       "      <td>42</td>\n",
       "      <td>42</td>\n",
       "      <td>20.130175</td>\n",
       "      <td>81.604873</td>\n",
       "      <td>7.628473</td>\n",
       "      <td>262.717340</td>\n",
       "      <td>rice</td>\n",
       "    </tr>\n",
       "  </tbody>\n",
       "</table>\n",
       "</div>"
      ],
      "text/plain": [
       "    N   P   K  temperature   humidity        ph    rainfall label\n",
       "0  90  42  43    20.879744  82.002744  6.502985  202.935536  rice\n",
       "1  85  58  41    21.770462  80.319644  7.038096  226.655537  rice\n",
       "2  60  55  44    23.004459  82.320763  7.840207  263.964248  rice\n",
       "3  74  35  40    26.491096  80.158363  6.980401  242.864034  rice\n",
       "4  78  42  42    20.130175  81.604873  7.628473  262.717340  rice"
      ]
     },
     "execution_count": 23,
     "metadata": {},
     "output_type": "execute_result"
    }
   ],
   "source": [
    "#lets check the head of dataset\n",
    "data.head()\n"
   ]
  },
  {
   "cell_type": "code",
   "execution_count": 24,
   "id": "17a743aa",
   "metadata": {},
   "outputs": [
    {
     "name": "stdout",
     "output_type": "stream",
     "text": [
      "The suggested crop for the given climatic conditions is: ['rice']\n"
     ]
    }
   ],
   "source": [
    "import numpy as np  # Import numpy if not already imported\n",
    "\n",
    "# Assuming 'model' is your trained logistic regression model\n",
    "# Provide the input features as a NumPy array\n",
    "input_features = np.array([[90, 40, 40, 20, 80, 7, 200]])\n",
    "\n",
    "# Make the prediction\n",
    "prediction = model.predict(input_features)\n",
    "\n",
    "# Print the suggested crop\n",
    "print(\"The suggested crop for the given climatic conditions is:\", prediction)\n"
   ]
  },
  {
   "cell_type": "code",
   "execution_count": null,
   "id": "db0864fb",
   "metadata": {},
   "outputs": [],
   "source": []
  },
  {
   "cell_type": "code",
   "execution_count": null,
   "id": "2401465a",
   "metadata": {},
   "outputs": [],
   "source": []
  }
 ],
 "metadata": {
  "kernelspec": {
   "display_name": "Python 3",
   "language": "python",
   "name": "python3"
  },
  "language_info": {
   "codemirror_mode": {
    "name": "ipython",
    "version": 3
   },
   "file_extension": ".py",
   "mimetype": "text/x-python",
   "name": "python",
   "nbconvert_exporter": "python",
   "pygments_lexer": "ipython3",
   "version": "3.6.8"
  }
 },
 "nbformat": 4,
 "nbformat_minor": 5
}
