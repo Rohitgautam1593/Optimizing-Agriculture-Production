{
 "cells": [
  {
   "cell_type": "code",
   "execution_count": 1,
   "id": "b93f38b5",
   "metadata": {},
   "outputs": [],
   "source": [
    "# for manupulations\n",
    "import numpy as np\n",
    "import pandas as pd\n",
    "\n",
    "# for data viusualization\n",
    "import matplotlib.pyplot as plt\n",
    "import seaborn as sns\n",
    "\n",
    "# for interactivity\n",
    "from ipywidgets import interact\n",
    "\n"
   ]
  },
  {
   "cell_type": "code",
   "execution_count": 2,
   "id": "63e18cbc",
   "metadata": {},
   "outputs": [
    {
     "name": "stdout",
     "output_type": "stream",
     "text": [
      "Defaulting to user installation because normal site-packages is not writeable\n",
      "Requirement already satisfied: flask in c:\\users\\rohit\\appdata\\roaming\\python\\python311\\site-packages (3.1.0)\n",
      "Requirement already satisfied: Werkzeug>=3.1 in c:\\users\\rohit\\appdata\\roaming\\python\\python311\\site-packages (from flask) (3.1.3)\n",
      "Requirement already satisfied: Jinja2>=3.1.2 in c:\\users\\rohit\\appdata\\roaming\\python\\python311\\site-packages (from flask) (3.1.2)\n",
      "Requirement already satisfied: itsdangerous>=2.2 in c:\\users\\rohit\\appdata\\roaming\\python\\python311\\site-packages (from flask) (2.2.0)\n",
      "Requirement already satisfied: click>=8.1.3 in c:\\users\\rohit\\appdata\\roaming\\python\\python311\\site-packages (from flask) (8.1.7)\n",
      "Requirement already satisfied: blinker>=1.9 in c:\\users\\rohit\\appdata\\roaming\\python\\python311\\site-packages (from flask) (1.9.0)\n",
      "Requirement already satisfied: colorama in c:\\users\\rohit\\appdata\\roaming\\python\\python311\\site-packages (from click>=8.1.3->flask) (0.4.6)\n",
      "Requirement already satisfied: MarkupSafe>=2.0 in c:\\users\\rohit\\appdata\\roaming\\python\\python311\\site-packages (from Jinja2>=3.1.2->flask) (2.1.2)\n"
     ]
    },
    {
     "name": "stderr",
     "output_type": "stream",
     "text": [
      "\n",
      "[notice] A new release of pip is available: 25.1 -> 25.1.1\n",
      "[notice] To update, run: python.exe -m pip install --upgrade pip\n"
     ]
    }
   ],
   "source": [
    "!pip install flask"
   ]
  },
  {
   "cell_type": "code",
   "execution_count": 3,
   "id": "03c361c8",
   "metadata": {},
   "outputs": [
    {
     "name": "stdout",
     "output_type": "stream",
     "text": [
      "Python 3.11.1\n"
     ]
    }
   ],
   "source": [
    "!python --version"
   ]
  },
  {
   "cell_type": "code",
   "execution_count": 4,
   "id": "aa927983",
   "metadata": {},
   "outputs": [
    {
     "name": "stdout",
     "output_type": "stream",
     "text": [
      "Defaulting to user installation because normal site-packages is not writeable\n"
     ]
    },
    {
     "name": "stderr",
     "output_type": "stream",
     "text": [
      "\n",
      "[notice] A new release of pip is available: 25.1 -> 25.1.1\n",
      "[notice] To update, run: python.exe -m pip install --upgrade pip\n",
      "ERROR: Invalid requirement: 'pip.': Expected end or semicolon (after name and no valid version specifier)\n",
      "    pip.\n",
      "       ^\n"
     ]
    }
   ],
   "source": [
    "!pip install --upgrade pip to upgrade pip.\n"
   ]
  },
  {
   "cell_type": "code",
   "execution_count": 5,
   "id": "f63f1070",
   "metadata": {},
   "outputs": [
    {
     "name": "stdout",
     "output_type": "stream",
     "text": [
      " * Serving Flask app '__main__'\n",
      " * Debug mode: on\n"
     ]
    },
    {
     "name": "stderr",
     "output_type": "stream",
     "text": [
      "WARNING: This is a development server. Do not use it in a production deployment. Use a production WSGI server instead.\n",
      " * Running on http://127.0.0.1:5000\n",
      "Press CTRL+C to quit\n",
      " * Restarting with stat\n"
     ]
    },
    {
     "ename": "SystemExit",
     "evalue": "1",
     "output_type": "error",
     "traceback": [
      "An exception has occurred, use %tb to see the full traceback.\n",
      "\u001b[1;31mSystemExit\u001b[0m\u001b[1;31m:\u001b[0m 1\n"
     ]
    },
    {
     "name": "stderr",
     "output_type": "stream",
     "text": [
      "C:\\Users\\rohit\\AppData\\Roaming\\Python\\Python311\\site-packages\\IPython\\core\\interactiveshell.py:3468: UserWarning: To exit: use 'exit', 'quit', or Ctrl-D.\n",
      "  warn(\"To exit: use 'exit', 'quit', or Ctrl-D.\", stacklevel=1)\n"
     ]
    }
   ],
   "source": [
    "from flask import Flask, request, render_template\n",
    "import pandas as pd\n",
    "import numpy as np\n",
    "from sklearn.model_selection import train_test_split\n",
    "from sklearn.linear_model import LinearRegression\n",
    "import matplotlib.pyplot as plt\n",
    "import seaborn as sns\n",
    "\n",
    "app = Flask(__name__)\n",
    "\n",
    "@app.route('/')\n",
    "def home():\n",
    "    return render_template('index.html')\n",
    "\n",
    "@app.route('/optimize', methods=['POST'])\n",
    "def optimize():\n",
    "    # Load your data\n",
    "    data = pd.read_csv('your_data.csv')\n",
    "    \n",
    "    # Preprocess your data\n",
    "    X = data[['feature1', 'feature2', 'feature3']]\n",
    "    y = data['target']\n",
    "    \n",
    "    # Split the data\n",
    "    X_train, X_test, y_train, y_test = train_test_split(X, y, test_size=0.2, random_state=42)\n",
    "    \n",
    "    # Train your model\n",
    "    model = LinearRegression()\n",
    "    model.fit(X_train, y_train)\n",
    "    \n",
    "    # Predict using the model\n",
    "    prediction = model.predict(np.array([[request.form['feature1'], request.form['feature2'], request.form['feature3']]]))\n",
    "    \n",
    "    return f\"The optimized result is: {prediction[0]}\"\n",
    "\n",
    "if __name__ == '__main__':\n",
    "    app.run(debug=True)"
   ]
  },
  {
   "cell_type": "code",
   "execution_count": null,
   "id": "a4f0a1f8",
   "metadata": {
    "scrolled": false
   },
   "outputs": [],
   "source": [
    "!pip install gradio"
   ]
  },
  {
   "cell_type": "code",
   "execution_count": null,
   "id": "12d1d06c",
   "metadata": {},
   "outputs": [],
   "source": [
    "!pip install gradio==2.8.2\n",
    "\n"
   ]
  },
  {
   "cell_type": "code",
   "execution_count": null,
   "id": "14bebe09",
   "metadata": {},
   "outputs": [],
   "source": [
    "import gradio as gr\n",
    "\n",
    "# Define a simple function\n",
    "def greet(name):\n",
    "    return f\"Hello, {name}!\"\n",
    "\n",
    "# Create a Gradio interface\n",
    "demo = gr.Interface(\n",
    "    fn=greet,\n",
    "    inputs=[\"text\"],\n",
    "    outputs=[\"text\"],\n",
    "    title=\"Hello World Demo\",\n",
    "    description=\"Enter your name to get greeted!\",\n",
    ")\n",
    "\n",
    "# Launch the Gradio interface\n",
    "demo.launch()\n"
   ]
  },
  {
   "cell_type": "code",
   "execution_count": null,
   "id": "ef235d45",
   "metadata": {},
   "outputs": [],
   "source": [
    "# lets read dataset\n",
    "data = pd.read_csv('agriculture.csv')"
   ]
  },
  {
   "cell_type": "code",
   "execution_count": null,
   "id": "cec3f53f",
   "metadata": {},
   "outputs": [],
   "source": [
    "# lets check the shape of the dataset\n",
    "print(\"shape of dataset :\",data.shape)"
   ]
  },
  {
   "cell_type": "code",
   "execution_count": null,
   "id": "7cb762a7",
   "metadata": {},
   "outputs": [],
   "source": [
    "# lets check the head of the dataset\n",
    "data.head()"
   ]
  },
  {
   "cell_type": "code",
   "execution_count": null,
   "id": "bd4f1fa1",
   "metadata": {},
   "outputs": [],
   "source": [
    "# lets check whether there is amy missing value in dataset\n",
    "data.isnull().sum()"
   ]
  },
  {
   "cell_type": "code",
   "execution_count": null,
   "id": "ece75117",
   "metadata": {},
   "outputs": [],
   "source": [
    "# fill-NA function is used to replace the missing values with statistical values with mean, median, mode.\n",
    "# NA means not available\n",
    "# pandas have functions like fill-NA , drop-NA to treat missing values."
   ]
  },
  {
   "cell_type": "code",
   "execution_count": null,
   "id": "7eba7f78",
   "metadata": {},
   "outputs": [],
   "source": [
    "#lets check the crops preguksent in this dataset\n",
    "data['label'].value_counts()\n"
   ]
  },
  {
   "cell_type": "code",
   "execution_count": null,
   "id": "a5793ae5",
   "metadata": {},
   "outputs": [],
   "source": [
    "# lets check summary of all the crops \n",
    "print(\"Average Ratio of Nitrogen in the soil : {0:.2f}\".format(data['N'].mean()))\n",
    "print(\"Average Ratio of Phosphorous in the soil : {0:.2f}\".format(data['P'].mean()))\n",
    "print(\"Average Ratio of Potassium in the soil : {0:.2f}\".format(data['K'].mean()))\n",
    "print(\"Average Temprature in Celcius : {0:.2f}\".format(data['temperature'].mean()))\n",
    "print(\"Average Relative humidity in % : {0:.2f}\".format(data['humidity'].mean()))\n",
    "print(\"Average PH value of the soil : {0:.2f}\".format(data['ph'].mean()))\n",
    "print(\"Average Rainfall in mm : {0:.2f}\".format(data['rainfall'].mean()))"
   ]
  },
  {
   "cell_type": "code",
   "execution_count": null,
   "id": "101134f2",
   "metadata": {},
   "outputs": [],
   "source": [
    "# lets check the Summary statistics for each of the crops \n",
    "# this can only be done with the help of ipywidgets (import interact)\n",
    "\n",
    "@interact\n",
    "def summary(crops = list(data['label'].value_counts().index)):\n",
    "    x = data[data['label']== crops ]\n",
    "    print(\"--------------------------------------------------\")\n",
    "    print(\"Statics for Nitrogen\")\n",
    "    print(\"Minimum Nitrogen required :\", x['N'].min())\n",
    "    print(\"Average Nitrogen required :\", x['N'].mean())\n",
    "    print(\"Maximum Nitrogen required :\", x['N'].max())\n",
    "    print(\"--------------------------------------------------\")\n",
    "    print(\"Statics for Phosphorous\")\n",
    "    print(\"Minimum Phosphorous required :\", x['P'].min())\n",
    "    print(\"Average Phosphorous required :\", x['P'].mean())\n",
    "    print(\"Maximum Phosphorous required :\", x['P'].max())\n",
    "    print(\"--------------------------------------------------\")\n",
    "    print(\"Statics for Potassium\")\n",
    "    print(\"Minimum Potassium required :\", x['K'].min())\n",
    "    print(\"Average Potassium required :\", x['K'].mean())\n",
    "    print(\"Maximum Potassium required :\", x['K'].max())\n",
    "    print(\"--------------------------------------------------\")\n",
    "    print(\"Statics for Temperature\")\n",
    "    print(\"Minimum Temperature required : {0:.2f}\".format(x['temperature'].min()))\n",
    "    print(\"Average Temperature required : {0:.2f}\".format(x['temperature'].mean()))\n",
    "    print(\"Maximum Temperature required : {0:.2f}\".format(x['temperature'].max()))\n",
    "    print(\"--------------------------------------------------\")\n",
    "    print(\"Statics for Humidity\")\n",
    "    print(\"Minimum Humidity required : {0:.2f}\".format(x['humidity'].min()))\n",
    "    print(\"Average Humidity required : {0:.2f}\".format(x['humidity'].mean()))\n",
    "    print(\"Maximum Humidity required : {0:.2f}\".format(x['humidity'].max()))\n",
    "    print(\"--------------------------------------------------\")\n",
    "    print(\"Statics for PH\")\n",
    "    print(\"Minimum PH required : {0:.2f}\".format(x['ph'].min()))\n",
    "    print(\"Average PH required : {0:.2f}\".format(x['ph'].mean()))\n",
    "    print(\"Maximum PH required : {0:.2f}\".format(x['ph'].max()))\n",
    "    print(\"--------------------------------------------------\")\n",
    "    print(\"Statics for Rainfall\")\n",
    "    print(\"Minimum Rainfall required : {0:.2f}\".format(x['rainfall'].min()))\n",
    "    print(\"Average Rainfall required : {0:.2f}\".format(x['rainfall'].mean()))\n",
    "    print(\"Maximum Rainfall required : {0:.2f}\".format(x['rainfall'].max()))\n",
    "    \n",
    "    \n",
    "    \n",
    "    \n",
    "    "
   ]
  },
  {
   "cell_type": "code",
   "execution_count": null,
   "id": "636fc3a0",
   "metadata": {},
   "outputs": [],
   "source": [
    "#lets compqare the average requirmnet for each crop with average conditions \n",
    "\n",
    "@interact\n",
    "def compare(conditions = ['N','P','K','temperature','ph','humidity','rainfall']):\n",
    "    print(\"average value for\", conditions , \"is {0:.2f}\".format(data[conditions].mean()))\n",
    "    print(\"-----------------------------------------------\")\n",
    "    print(\"Rice : {0:.2f}\".format(data[(data['label'] == 'rice')][conditions].mean()))\n",
    "    print(\"Black Gram : {0:.2f}\".format(data[(data['label'] == 'blackgram')][conditions].mean()))\n",
    "    print(\"Banana : {0:.2f}\".format(data[(data['label'] == 'banana')][conditions].mean()))\n",
    "    print(\"Jute : {0:.2f}\".format(data[(data['label'] == 'jute')][conditions].mean()))\n",
    "    print(\"Coconut : {0:.2f}\".format(data[(data['label'] == 'coconut')][conditions].mean()))\n",
    "    print(\"Apple : {0:.2f}\".format(data[(data['label'] == 'apple')][conditions].mean()))\n",
    "    print(\"Papaya : {0:.2f}\".format(data[(data['label'] == 'papaya')][conditions].mean()))\n",
    "    print(\"Muskmelon : {0:.2f}\".format(data[(data['label'] == 'muskmelon')][conditions].mean()))\n",
    "    print(\"Grapes : {0:.2f}\".format(data[(data['label'] == 'grapes')][conditions].mean()))\n",
    "    print(\"Watermelon : {0:.2f}\".format(data[(data['label'] == 'watermelon')][conditions].mean()))\n",
    "    print(\"Kidney Beans : {0:.2f}\".format(data[(data['label'] == 'kidneybeans')][conditions].mean()))\n",
    "    print(\"Mung Beans : {0:.2f}\".format(data[(data['label'] == 'mungbean')][conditions].mean()))\n",
    "    print(\"Oranges : {0:.2f}\".format(data[(data['label'] == 'orange')][conditions].mean()))\n",
    "    print(\"Chick Peas : {0:.2f}\".format(data[(data['label'] == 'chickpea')][conditions].mean()))\n",
    "    print(\"Lentil : {0:.2f}\".format(data[(data['label'] == 'lentil')][conditions].mean()))\n",
    "    print(\"Cotton : {0:.2f}\".format(data[(data['label'] == 'cotton')][conditions].mean()))\n",
    "    print(\"Maize : {0:.2f}\".format(data[(data['label'] == 'maize')][conditions].mean()))\n",
    "    print(\"Moth Beans : {0:.2f}\".format(data[(data['label'] == 'mothbeans')][conditions].mean()))\n",
    "    print(\"Pigeon Peas : {0:.2f}\".format(data[(data['label'] == 'pigeonpeas')][conditions].mean()))\n",
    "    print(\"Mango : {0:.2f}\".format(data[(data['label'] == 'mango')][conditions].mean()))\n",
    "    print(\"Pomogrant : {0:.2f}\".format(data[(data['label'] == 'pomogrant')][conditions].mean()))\n",
    "    print(\"Coffee : {0:.2f}\".format(data[(data['label'] == 'coffee')][conditions].mean()))\n",
    "    \n",
    "    "
   ]
  },
  {
   "cell_type": "code",
   "execution_count": null,
   "id": "ece9c0a9",
   "metadata": {
    "scrolled": true
   },
   "outputs": [],
   "source": [
    "# lets make this function more intuitive  \n",
    "\n",
    "@interact\n",
    "def compare(conditions = ['N','P','K','temperature','ph','humidity','rainfall']):\n",
    "    print(\"Crops which requires more then average :\",conditions,'\\n')\n",
    "    print(data[data[conditions] > data[conditions].mean()]['label'].unique())\n",
    "    print(\"\\n----------------------------------------------------------------\\n\")\n",
    "    print(\"Crops which requires less then average :\",conditions,'\\n')\n",
    "    print(data[data[conditions] <= data[conditions].mean()]['label'].unique())"
   ]
  },
  {
   "cell_type": "code",
   "execution_count": null,
   "id": "39b668a5",
   "metadata": {},
   "outputs": [],
   "source": []
  },
  {
   "cell_type": "code",
   "execution_count": null,
   "id": "5261bcd4",
   "metadata": {},
   "outputs": [],
   "source": [
    "import matplotlib.pyplot as plt\n",
    "import seaborn as sns\n",
    "\n",
    "# Assuming 'data' is your DataFrame with the relevant columns\n",
    "\n",
    "plt.figure(figsize=(15, 8))  # Set the overall figure size\n",
    "\n",
    "# Plot 1: Nitrogen\n",
    "plt.subplot(2, 4, 1)\n",
    "sns.distplot(data['N'], color='darkblue')\n",
    "plt.xlabel(\"Ratio of Nitrogen\", fontsize=12)\n",
    "plt.grid()\n",
    "\n",
    "# Plot 2: Phosphorous\n",
    "plt.subplot(2, 4, 2)\n",
    "sns.distplot(data['P'], color='darkgreen')\n",
    "plt.xlabel(\"Ratio for Phosphorous\", fontsize=12)\n",
    "plt.grid()\n",
    "\n",
    "# Plot 3: Potassium\n",
    "plt.subplot(2, 4, 3)\n",
    "sns.distplot(data['K'], color='darkred')\n",
    "plt.xlabel(\"Ratio of Potassium\", fontsize=12)\n",
    "plt.grid()\n",
    "\n",
    "# Plot 4: Temperature\n",
    "plt.subplot(2, 4, 4)\n",
    "sns.distplot(data['temperature'], color='black')\n",
    "plt.xlabel(\"Temperature\", fontsize=12)\n",
    "plt.grid()\n",
    "\n",
    "# Plot 5: Rainfall\n",
    "plt.subplot(2, 4, 5)\n",
    "sns.distplot(data['rainfall'], color='grey')\n",
    "plt.xlabel(\"Rainfall\", fontsize=12)\n",
    "plt.grid()\n",
    "\n",
    "# Plot 6: Humidity\n",
    "plt.subplot(2, 4, 6)\n",
    "sns.distplot(data['humidity'], color='lightgreen')\n",
    "plt.xlabel(\"Humidity\", fontsize=12)\n",
    "plt.grid()\n",
    "\n",
    "# Plot 7: pH\n",
    "plt.subplot(2, 4, 7)\n",
    "sns.distplot(data['ph'], color='darkgreen')\n",
    "plt.xlabel(\"pH level\", fontsize=12)\n",
    "plt.grid()\n",
    "\n",
    "# Set the overall plot title\n",
    "plt.suptitle('Distribution of Agricultural Conditions', fontsize=20)\n",
    "\n",
    "# Adjust the layout to prevent overlapping titles\n",
    "plt.tight_layout()\n",
    "\n",
    "# Show the plots\n",
    "plt.show()\n"
   ]
  },
  {
   "cell_type": "code",
   "execution_count": null,
   "id": "69fed29c",
   "metadata": {
    "scrolled": true
   },
   "outputs": [],
   "source": [
    "## lets find out some intrusting facts \n",
    "\n",
    "print(\"Some Intrusting Patterns \")\n",
    "print(\"---------------------------------------------------------\")\n",
    "print(\"Crops which requires very high ratio of Nitrogen contents in soil:\",data[data['N'] > 120]['label'].unique())\n",
    "print(\"Crops which requires very high ratio of Phosporous contents in soil:\",data[data['P'] > 100]['label'].unique())\n",
    "print(\"Crops which requires very high ratio of Pottasium contents in soil:\",data[data['N'] > 200]['label'].unique())\n",
    "print(\"Crops which requires very High Rainfall:\",data[data['rainfall'] > 200]['label'].unique())\n",
    "print(\"Crops which requires very Low Temeprature:\",data[data['temperature'] < 10]['label'].unique())\n",
    "print(\"Crops which requires very High Temeprature:\",data[data['temperature'] > 40]['label'].unique())\n",
    "print(\"Crops which requires very Low Humidity:\",data[data['humidity'] < 20]['label'].unique())\n",
    "print(\"Crops which requires very Low PH:\",data[data['ph'] < 4]['label'].unique())\n",
    "print(\"Crops which requires very High PH:\",data[data['ph'] > 9]['label'].unique())\n"
   ]
  },
  {
   "cell_type": "code",
   "execution_count": null,
   "id": "9d5c72d0",
   "metadata": {},
   "outputs": [],
   "source": [
    "### lets see which crops can be grown in summer season , winter season , rainy season \n",
    "print(\"Summer Crops\")\n",
    "print(data[(data['temperature'] >30 ) & (data['humidity'] > 50)]['label'].unique())\n",
    "print(\"------------------------------------------------------------\")\n",
    "print(\"Winter Crops\")\n",
    "print(data[(data['temperature'] <20 ) & (data['humidity'] >30 )]['label'].unique())\n",
    "print(\"Rainy Crops\")\n",
    "print(\"------------------------------------------------------------\")\n",
    "print(data[(data['rainfall'] >200 ) & (data['humidity'] > 30)]['label'].unique())\n"
   ]
  },
  {
   "cell_type": "code",
   "execution_count": null,
   "id": "2b163dfc",
   "metadata": {},
   "outputs": [],
   "source": [
    "from sklearn.cluster import KMeans \n",
    "\n",
    "# removing the labels column \n",
    "x = data.drop(['label'], axis=1)\n",
    "\n",
    "# selecting all the values of data \n",
    "x = x.values\n",
    "\n",
    "# checking the shape\n",
    "print(x.shape)"
   ]
  },
  {
   "cell_type": "code",
   "execution_count": null,
   "id": "8f0951be",
   "metadata": {},
   "outputs": [],
   "source": [
    "# lets determine the optimum no of clusters within the dataset \n",
    "plt.rcParams['figure.figsize'] = (10,4)\n",
    "\n",
    "wcss = []\n",
    "for i in range (1,11):\n",
    "    km = KMeans(n_clusters = i, init = 'k-means++', max_iter = 300, n_init = 10, random_state = 0)\n",
    "    km.fit(x)\n",
    "    wcss.append(km.inertia_)\n",
    "    \n",
    "# lets plot the results \n",
    "plt.plot(range(1,11),wcss)\n",
    "plt.title('the elbow methord', fontsize = 20)\n",
    "plt.xlabel('no. of clusters')\n",
    "plt.ylabel('wcss')\n",
    "plt.show()\n"
   ]
  },
  {
   "cell_type": "code",
   "execution_count": null,
   "id": "52ca8840",
   "metadata": {},
   "outputs": [],
   "source": [
    "# lets impliment the k means algorithm to perform clustering analysis\n",
    "km = KMeans(n_clusters = 4, init = 'k-means++', max_iter = 300, n_init = 10, random_state = 0)\n",
    "y_means = km.fit_predict(x)\n",
    "\n",
    "# lets find out the results \n",
    "a = data['label']\n",
    "y_means = pd.DataFrame(y_means)\n",
    "z = pd.concat([y_means, a], axis =1)\n",
    "z = z.rename(columns = {0: 'cluster'})\n",
    "\n",
    "# lets check the cluster of each crop \n",
    "\n",
    "print(\"Lets Check the Result After the K Means Clustering Anayalysis \\n\")\n",
    "print(\"Crops in First Cluster:\",z[z['cluster'] == 0]['label'].unique())\n",
    "print(\"------------------------------------------------------------------\")\n",
    "print(\"Crops in Second Cluster:\",z[z['cluster'] == 1]['label'].unique())\n",
    "print(\"------------------------------------------------------------------\")\n",
    "print(\"Crops in Third Cluster:\",z[z['cluster'] == 2]['label'].unique())\n",
    "print(\"------------------------------------------------------------------\")\n",
    "print(\"Crops in Forth Cluster:\",z[z['cluster'] == 3]['label'].unique())\n",
    "print(\"------------------------------------------------------------------\")"
   ]
  },
  {
   "cell_type": "code",
   "execution_count": null,
   "id": "e847f10e",
   "metadata": {},
   "outputs": [],
   "source": [
    "# lets split dataset for predictive modeling \n",
    "y = data['label']\n",
    "x = data.drop(['label'], axis = 1)\n",
    "\n",
    "print(\"Shape of x:\", x.shape)\n",
    "print(\"Shape of y:\", y.shape)\n",
    "\n",
    "\n"
   ]
  },
  {
   "cell_type": "code",
   "execution_count": null,
   "id": "fb35f692",
   "metadata": {},
   "outputs": [],
   "source": [
    "#lets create atraining and testing sets for the validation of results\n",
    "from sklearn.model_selection import train_test_split\n",
    "\n",
    "x_train, x_test , y_train , y_test = train_test_split(x ,y, test_size= 0.2,random_state =0)\n",
    "print(\"The shape of x train\",x_train.shape)\n",
    "print(\"The shape of x test\",x_test.shape)\n",
    "print(\"The shape of y train\",x_train.shape)\n",
    "print(\"The shape of y test\",x_train.shape)"
   ]
  },
  {
   "cell_type": "code",
   "execution_count": null,
   "id": "2433a974",
   "metadata": {},
   "outputs": [],
   "source": []
  },
  {
   "cell_type": "code",
   "execution_count": null,
   "id": "f8fa8706",
   "metadata": {},
   "outputs": [],
   "source": []
  },
  {
   "cell_type": "code",
   "execution_count": null,
   "id": "264b27f7",
   "metadata": {},
   "outputs": [],
   "source": [
    "from sklearn.preprocessing import StandardScaler\n",
    "from sklearn.linear_model import LogisticRegression\n",
    "\n",
    "# Initialize the StandardScaler\n",
    "scaler = StandardScaler()\n",
    "\n",
    "# Scale the training and testing data\n",
    "x_train_scaled = scaler.fit_transform(x_train)\n",
    "x_test_scaled = scaler.transform(x_test)\n",
    "\n",
    "# Initialize the logistic regression model with desired parameters\n",
    "model = LogisticRegression(max_iter=1000)  # You can adjust max_iter as needed\n",
    "\n",
    "# Train the logistic regression model on the scaled training data\n",
    "model.fit(x_train_scaled, y_train)\n",
    "\n",
    "# Make predictions on the scaled testing data\n",
    "y_pred = model.predict(x_test_scaled)\n"
   ]
  },
  {
   "cell_type": "code",
   "execution_count": null,
   "id": "af947218",
   "metadata": {},
   "outputs": [],
   "source": [
    "# Import necessary libraries\n",
    "from sklearn.metrics import confusion_matrix\n",
    "import matplotlib.pyplot as plt\n",
    "import seaborn as sns\n",
    "\n",
    "# Calculate the confusion matrix\n",
    "cm = confusion_matrix(y_test, y_pred)  # Assuming y_test contains the true labels\n",
    "\n",
    "# Set the figure size and plot the confusion matrix using seaborn\n",
    "plt.figure(figsize=(10, 10))\n",
    "sns.heatmap(cm, annot=True, cmap='Wistia', fmt='g')  # 'fmt' is used to format the cell values\n",
    "plt.title('Confusion Matrix for Logistic Regression', fontsize=15)\n",
    "plt.xlabel('Predicted')\n",
    "plt.ylabel('Actual')\n",
    "plt.show()\n"
   ]
  },
  {
   "cell_type": "code",
   "execution_count": null,
   "id": "6813f632",
   "metadata": {},
   "outputs": [],
   "source": [
    "# Import the classification_report function\n",
    "from sklearn.metrics import classification_report\n",
    "\n",
    "# Calculate the classification report\n",
    "cr = classification_report(y_test, y_pred)  # Assuming y_test contains the true labels\n",
    "\n",
    "# Print the classification report\n",
    "print(cr)\n"
   ]
  },
  {
   "cell_type": "code",
   "execution_count": null,
   "id": "c348b4ce",
   "metadata": {},
   "outputs": [],
   "source": []
  },
  {
   "cell_type": "code",
   "execution_count": null,
   "id": "06ad70d0",
   "metadata": {},
   "outputs": [],
   "source": [
    "#lets check the head of dataset\n",
    "data.head()\n"
   ]
  },
  {
   "cell_type": "code",
   "execution_count": null,
   "id": "17a743aa",
   "metadata": {},
   "outputs": [],
   "source": [
    "import numpy as np  # Import numpy if not already imported\n",
    "\n",
    "# Assuming 'model' is your trained logistic regression model\n",
    "# Provide the input features as a NumPy array\n",
    "input_features = np.array([[90, 40, 40, 20, 80, 7, 200]])\n",
    "\n",
    "# Make the prediction\n",
    "prediction = model.predict(input_features)\n",
    "\n",
    "# Print the suggested crop\n",
    "print(\"The suggested crop for the given climatic conditions is:\", prediction)\n"
   ]
  },
  {
   "cell_type": "markdown",
   "id": "87ad9ab2",
   "metadata": {},
   "source": [
    "# extra for practice only\n",
    "\n"
   ]
  },
  {
   "cell_type": "code",
   "execution_count": null,
   "id": "2401465a",
   "metadata": {},
   "outputs": [],
   "source": [
    "import matplotlib.pyplot as plt \n",
    "import numpy as np \n",
    "from sklearn import datasets, linear_model\n",
    "from sklearn.metrics import mean_squared_error\n",
    "\n",
    "data2 = data\n",
    "#print(data2)\n",
    "x_train, x_test , y_train , y_test = train_test_split(x ,y, test_size= 0.2,random_state =0)\n",
    "print(\"The shape of x train\",x_train.shape)\n",
    "print(\"The shape of x test\",x_test.shape)\n",
    "print(\"The shape of y train\",x_train.shape)\n",
    "print(\"The shape of y test\",x_train.shape)"
   ]
  },
  {
   "cell_type": "code",
   "execution_count": null,
   "id": "ab6d5f22",
   "metadata": {},
   "outputs": [],
   "source": [
    "reg = linear_model"
   ]
  },
  {
   "cell_type": "code",
   "execution_count": null,
   "id": "be71f7b2",
   "metadata": {},
   "outputs": [],
   "source": []
  }
 ],
 "metadata": {
  "kernelspec": {
   "display_name": "Python 3",
   "language": "python",
   "name": "python3"
  },
  "language_info": {
   "codemirror_mode": {
    "name": "ipython",
    "version": 3
   },
   "file_extension": ".py",
   "mimetype": "text/x-python",
   "name": "python",
   "nbconvert_exporter": "python",
   "pygments_lexer": "ipython3",
   "version": "3.11.1"
  }
 },
 "nbformat": 4,
 "nbformat_minor": 5
}
